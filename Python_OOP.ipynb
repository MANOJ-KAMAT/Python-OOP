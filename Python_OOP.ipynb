{
  "nbformat": 4,
  "nbformat_minor": 0,
  "metadata": {
    "colab": {
      "name": "Python OOP.ipynb",
      "provenance": [],
      "toc_visible": true,
      "authorship_tag": "ABX9TyOdv2FWgLHSbuCTsl+1mlI9"
    },
    "kernelspec": {
      "name": "python3",
      "display_name": "Python 3"
    }
  },
  "cells": [
    {
      "cell_type": "markdown",
      "metadata": {
        "id": "Ip2YqZzeOghl",
        "colab_type": "text"
      },
      "source": [
        "#POLYMORPHISM"
      ]
    },
    {
      "cell_type": "code",
      "metadata": {
        "id": "4vT7a3EWOoCt",
        "colab_type": "code",
        "outputId": "ea1809c6-a475-47de-e22a-44b4a43321ea",
        "colab": {
          "base_uri": "https://localhost:8080/",
          "height": 50
        }
      },
      "source": [
        "# In-built poly-morphic functions \n",
        "  \n",
        "# len() being used for a string \n",
        "print(len(\"Python\")) \n",
        "  \n",
        "# len() being used for a list \n",
        "print(len([10, 20, 30])) "
      ],
      "execution_count": 0,
      "outputs": [
        {
          "output_type": "stream",
          "text": [
            "6\n",
            "3\n"
          ],
          "name": "stdout"
        }
      ]
    },
    {
      "cell_type": "code",
      "metadata": {
        "id": "UCvFLrXCO4wQ",
        "colab_type": "code",
        "outputId": "864145eb-4c88-4597-8118-099f9f546a19",
        "colab": {
          "base_uri": "https://localhost:8080/",
          "height": 134
        }
      },
      "source": [
        "#Polymorphism with class methods\n",
        "\n",
        "class India(): \n",
        "    def capital(self): \n",
        "        print(\"New Delhi is the capital of India.\") \n",
        "  \n",
        "    def language(self): \n",
        "        print(\"Hindi the primary language of India.\") \n",
        "  \n",
        "    def type(self): \n",
        "        print(\"India is a developing country.\") \n",
        "        print( )\n",
        "  \n",
        "class USA(): \n",
        "    def capital(self): \n",
        "        print(\"Washington, D.C. is the capital of USA.\") \n",
        "  \n",
        "    def language(self): \n",
        "        print(\"English is the primary language of USA.\") \n",
        "  \n",
        "    def type(self): \n",
        "        print(\"USA is a developed country.\") \n",
        "\n",
        "#creating object  \n",
        "obj_ind = India() \n",
        "obj_usa = USA() \n",
        "\n",
        "#calling method\n",
        "for country in (obj_ind, obj_usa): \n",
        "    country.capital() \n",
        "    country.language() \n",
        "    country.type() "
      ],
      "execution_count": 0,
      "outputs": [
        {
          "output_type": "stream",
          "text": [
            "New Delhi is the capital of India.\n",
            "Hindi the primary language of India.\n",
            "India is a developing country.\n",
            "\n",
            "Washington, D.C. is the capital of USA.\n",
            "English is the primary language of USA.\n",
            "USA is a developed country.\n"
          ],
          "name": "stdout"
        }
      ]
    },
    {
      "cell_type": "code",
      "metadata": {
        "id": "oHejzpIEjJ_P",
        "colab_type": "code",
        "outputId": "2d4ad962-85da-41db-a132-780c81fedd3e",
        "colab": {
          "base_uri": "https://localhost:8080/",
          "height": 167
        }
      },
      "source": [
        "#Polymorphism with Inheritance\n",
        "#Method Overriding\n",
        "\n",
        "class Bird: \n",
        "  def intro(self): \n",
        "    print(\"There are many types of birds.\") \n",
        "      \n",
        "  def flight(self): \n",
        "    print(\"Most of the birds can fly but some cannot.\") \n",
        "    print()\n",
        "\n",
        "class sparrow(Bird): \n",
        "  def flight(self): \n",
        "    print(\"Sparrows can fly.\") \n",
        "    print()\n",
        "\n",
        "class ostrich(Bird): \n",
        "  def flight(self): \n",
        "    print(\"Ostriches cannot fly.\") \n",
        "    print()  \n",
        "\n",
        "#creating object\n",
        "obj_bird = Bird() \n",
        "obj_spr = sparrow() \n",
        "obj_ost = ostrich() \n",
        "  \n",
        "#calling method\n",
        "obj_bird.intro() \n",
        "obj_bird.flight() \n",
        "  \n",
        "obj_spr.intro() \n",
        "obj_spr.flight() \n",
        "  \n",
        "obj_ost.intro() \n",
        "obj_ost.flight() "
      ],
      "execution_count": 0,
      "outputs": [
        {
          "output_type": "stream",
          "text": [
            "There are many types of birds.\n",
            "Most of the birds can fly but some cannot.\n",
            "\n",
            "There are many types of birds.\n",
            "Sparrows can fly.\n",
            "\n",
            "There are many types of birds.\n",
            "Ostriches cannot fly.\n",
            "\n"
          ],
          "name": "stdout"
        }
      ]
    },
    {
      "cell_type": "markdown",
      "metadata": {
        "id": "alccECGNtlVO",
        "colab_type": "text"
      },
      "source": [
        "#DATA HIDING"
      ]
    },
    {
      "cell_type": "code",
      "metadata": {
        "id": "tYVZ8RP4oraj",
        "colab_type": "code",
        "outputId": "3261426f-63a2-47ea-f360-15ab5cb54286",
        "colab": {
          "base_uri": "https://localhost:8080/",
          "height": 117
        }
      },
      "source": [
        "class MyClass:\n",
        "    __hiddenVariable = 0     # Private member of MyClass\n",
        "    _protectedVar = 0        # Protected member of MyClass\n",
        "    pubvar=1\n",
        "  # A member method that changes __hiddenVariable\n",
        "    def add(self, increment):\n",
        "        self.__hiddenVariable += increment\n",
        "        print (self.__hiddenVariable)\n",
        "\n",
        "myObject = MyClass()\n",
        "myObject.add(2)\n",
        "myObject.add(5)\n",
        "\n",
        "# This will causes error\n",
        "#print (MyClass.__hiddenVariable)\n",
        "\n",
        "print (MyClass.pubvar)\n",
        "print()\n",
        "print (MyClass._protectedVar) #protected variable\n",
        "print()\n",
        "\n",
        "#private variable calling outside class\n",
        "#print(myObject._MyClass__hiddenVariable) "
      ],
      "execution_count": 0,
      "outputs": [
        {
          "output_type": "stream",
          "text": [
            "2\n",
            "7\n",
            "1\n",
            "\n",
            "0\n",
            "\n"
          ],
          "name": "stdout"
        }
      ]
    },
    {
      "cell_type": "markdown",
      "metadata": {
        "id": "a2h3HUdQAJOe",
        "colab_type": "text"
      },
      "source": [
        "#Encapsulation"
      ]
    },
    {
      "cell_type": "code",
      "metadata": {
        "id": "Fil2TZAJ7NsV",
        "colab_type": "code",
        "outputId": "a1bf1bab-aa6f-4dee-895a-2b3c35089efc",
        "colab": {
          "base_uri": "https://localhost:8080/",
          "height": 67
        }
      },
      "source": [
        "class Computer:\n",
        "\n",
        "    def __init__(self):\n",
        "        self.__maxprice = 900\n",
        "\n",
        "    def sell(self):\n",
        "        print(\"Selling Price: {}\".format(self.__maxprice))\n",
        "\n",
        "    def setMaxPrice(self, price):\n",
        "        self.__maxprice = price\n",
        "\n",
        "c = Computer()\n",
        "c.sell()\n",
        "\n",
        "# change the price \n",
        "c.__maxprice = 1000 #but no changes because it seems like accidental change\n",
        "c.sell()\n",
        "\n",
        "# using setter function\n",
        "c.setMaxPrice(1000) #format for changing the values\n",
        "c.sell()"
      ],
      "execution_count": 0,
      "outputs": [
        {
          "output_type": "stream",
          "text": [
            "Selling Price: 900\n",
            "Selling Price: 900\n",
            "Selling Price: 1000\n"
          ],
          "name": "stdout"
        }
      ]
    },
    {
      "cell_type": "markdown",
      "metadata": {
        "id": "rBXumixfJ7RG",
        "colab_type": "text"
      },
      "source": [
        "#Data Abstraction"
      ]
    },
    {
      "cell_type": "code",
      "metadata": {
        "id": "mbxQmSPjDw8d",
        "colab_type": "code",
        "outputId": "956d1b75-1b5a-4130-bdd5-029d670c0921",
        "colab": {
          "base_uri": "https://localhost:8080/",
          "height": 134
        }
      },
      "source": [
        "from abc import ABC, abstractmethod\n",
        "\n",
        "# abstract class Payment that has an abstract method payment()\n",
        "class Payment(ABC):\n",
        "    def print_slip(self, amount):\n",
        "        print('Purchase of amount- ', amount)\n",
        "    @abstractmethod\n",
        "    def payment(self, amount): \n",
        "        pass\n",
        "\n",
        "# CreditCardPayment derived from Payment that implement the abstract method payment() as per their functionality.\n",
        "class CreditCardPayment(Payment):\n",
        "    def payment(self, amount):\n",
        "        print('Credit card payment of- ', amount)\n",
        "\n",
        "# MobileWalletPayment derived from Payment that implement the abstract method payment() as per their functionality.\n",
        "class MobileWalletPayment(Payment):\n",
        "    def payment(self, amount):\n",
        "        print('Mobile wallet payment of- ', amount)\n",
        "\n",
        "#  payment method of CreditCardPayment class is invoked\n",
        "obj = CreditCardPayment()\n",
        "obj.payment(100)\n",
        "obj.print_slip(100)\n",
        "print(isinstance(obj, Payment))\n",
        "print()\n",
        "\n",
        "#  payment method of MobileWalletPayment class is invoked\n",
        "obj = MobileWalletPayment()\n",
        "obj.payment(200)\n",
        "obj.print_slip(200)\n",
        "print(isinstance(obj, Payment))"
      ],
      "execution_count": 0,
      "outputs": [
        {
          "output_type": "stream",
          "text": [
            "Credit card payment of-  100\n",
            "Purchase of amount-  100\n",
            "True\n",
            "\n",
            "Mobile wallet payment of-  200\n",
            "Purchase of amount-  200\n",
            "True\n"
          ],
          "name": "stdout"
        }
      ]
    }
  ]
}